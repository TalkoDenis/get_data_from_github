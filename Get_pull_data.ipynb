{
  "nbformat": 4,
  "nbformat_minor": 0,
  "metadata": {
    "colab": {
      "provenance": []
    },
    "kernelspec": {
      "name": "python3",
      "display_name": "Python 3"
    },
    "language_info": {
      "name": "python"
    }
  },
  "cells": [
    {
      "cell_type": "code",
      "execution_count": null,
      "metadata": {
        "colab": {
          "base_uri": "https://localhost:8080/"
        },
        "id": "-jRq1oZpJP5q",
        "outputId": "a4d68b84-68a9-4204-b184-4d374df1d210"
      },
      "outputs": [
        {
          "output_type": "stream",
          "name": "stdout",
          "text": [
            "Requirement already satisfied: PyGithub in /usr/local/lib/python3.10/dist-packages (1.59.1)\n",
            "Requirement already satisfied: deprecated in /usr/local/lib/python3.10/dist-packages (from PyGithub) (1.2.14)\n",
            "Requirement already satisfied: pyjwt[crypto]>=2.4.0 in /usr/local/lib/python3.10/dist-packages (from PyGithub) (2.8.0)\n",
            "Requirement already satisfied: pynacl>=1.4.0 in /usr/local/lib/python3.10/dist-packages (from PyGithub) (1.5.0)\n",
            "Requirement already satisfied: requests>=2.14.0 in /usr/local/lib/python3.10/dist-packages (from PyGithub) (2.31.0)\n",
            "Requirement already satisfied: cryptography>=3.4.0 in /usr/local/lib/python3.10/dist-packages (from pyjwt[crypto]>=2.4.0->PyGithub) (41.0.3)\n",
            "Requirement already satisfied: cffi>=1.4.1 in /usr/local/lib/python3.10/dist-packages (from pynacl>=1.4.0->PyGithub) (1.15.1)\n",
            "Requirement already satisfied: charset-normalizer<4,>=2 in /usr/local/lib/python3.10/dist-packages (from requests>=2.14.0->PyGithub) (3.2.0)\n",
            "Requirement already satisfied: idna<4,>=2.5 in /usr/local/lib/python3.10/dist-packages (from requests>=2.14.0->PyGithub) (3.4)\n",
            "Requirement already satisfied: urllib3<3,>=1.21.1 in /usr/local/lib/python3.10/dist-packages (from requests>=2.14.0->PyGithub) (2.0.4)\n",
            "Requirement already satisfied: certifi>=2017.4.17 in /usr/local/lib/python3.10/dist-packages (from requests>=2.14.0->PyGithub) (2023.7.22)\n",
            "Requirement already satisfied: wrapt<2,>=1.10 in /usr/local/lib/python3.10/dist-packages (from deprecated->PyGithub) (1.14.1)\n",
            "Requirement already satisfied: pycparser in /usr/local/lib/python3.10/dist-packages (from cffi>=1.4.1->pynacl>=1.4.0->PyGithub) (2.21)\n"
          ]
        }
      ],
      "source": [
        "pip install PyGithub"
      ]
    },
    {
      "cell_type": "code",
      "source": [
        "pip install XlsxWriter"
      ],
      "metadata": {
        "colab": {
          "base_uri": "https://localhost:8080/"
        },
        "id": "cscG4l05XI6W",
        "outputId": "fd088780-2ac9-46b5-de91-3f6d4022aad7"
      },
      "execution_count": null,
      "outputs": [
        {
          "output_type": "stream",
          "name": "stdout",
          "text": [
            "Requirement already satisfied: XlsxWriter in /usr/local/lib/python3.10/dist-packages (3.1.2)\n"
          ]
        }
      ]
    },
    {
      "cell_type": "code",
      "source": [
        "# Libraries\n",
        "import pandas as pd\n",
        "from github import Github\n",
        "import xlsxwriter"
      ],
      "metadata": {
        "id": "J-5r5V4UJQf8"
      },
      "execution_count": null,
      "outputs": []
    },
    {
      "cell_type": "code",
      "source": [
        "# The data of the repository\n",
        "owner = 'awslabs'\n",
        "repo = 'git-secrets'"
      ],
      "metadata": {
        "id": "1j4lUuNfJQoM"
      },
      "execution_count": null,
      "outputs": []
    },
    {
      "cell_type": "code",
      "source": [
        "# Empty dataframe\n",
        "df_pulls = pd.DataFrame()\n",
        "\n",
        "g = Github()\n",
        "\n",
        "# 'User'/'Repository'\n",
        "repo = g.get_repo(f'{owner}/{repo}')\n",
        "pulls = repo.get_pulls()\n",
        "for pull in pulls:\n",
        "  try:\n",
        "    loc_df = pd.DataFrame({'author':str(pull.user.login),\n",
        "                           'pull_date':pull.created_at,\n",
        "                           'body':pull.body,\n",
        "                           'review_comment_url':pull.review_comment_url,\n",
        "                           'title':pull.title\n",
        "                           }, index=[0])\n",
        "  except:\n",
        "    loc_df = pd.DataFrame({'author':None,\n",
        "                           'pull_date':None,\n",
        "                           'body':None,\n",
        "                           'review_comment_url':None,\n",
        "                           'title':None\n",
        "                           }, index=[0])\n",
        "\n",
        "  df_pulls = pd.concat([df_pulls, loc_df], ignore_index=True)\n",
        "df_pulls = df_pulls.sort_values('pull_date')"
      ],
      "metadata": {
        "id": "FYAwrV8QJQvz"
      },
      "execution_count": null,
      "outputs": []
    },
    {
      "cell_type": "code",
      "source": [
        "# Count of actions performed by each user by all the time\n",
        "if len(df_pulls) != 0:\n",
        "  df_count_pulls_groupby = df_pulls.groupby('author').agg({'pull_date':'count'}).rename(columns={'pull_date':'pull_count'}).reset_index().sort_values('pull_count', ascending=False)\n",
        "\n",
        "# Count of actions performed by each user per date\n",
        "if len(df_pulls) != 0:\n",
        "  df_pulls['date'] = df_pulls['pull_date'].dt.date\n",
        "  df_pulls_count = df_pulls.groupby(['author', 'date']).agg({'pull_date':'count'}).rename(columns={'pull_date':'pull_count'}).reset_index().sort_values('date')\n",
        "\n",
        "# Mean time per user\n",
        "result_data_pulls = []\n",
        "\n",
        "# Unique authors\n",
        "authors = df_pulls['author'].unique()\n",
        "\n",
        "for author in authors:\n",
        "    author_data = df_pulls[df_pulls['author'] == author]\n",
        "    author_data = author_data.sort_values('pull_date')\n",
        "    author_data['delta'] = author_data['pull_date'].diff().fillna(pd.Timedelta(seconds=0))\n",
        "    average_delta = author_data['delta'].mean()\n",
        "    result_data_pulls.append(pd.Series({'author': author, 'average_delta': average_delta}))\n",
        "\n",
        "result_df_pulls = pd.concat(result_data_pulls, axis=1).T\n",
        "result_df_pulls = result_df_pulls.reset_index(drop=True)\n",
        "\n",
        "result_df_pulls['delta_seconds'] = result_df_pulls['average_delta'].dt.total_seconds()\n",
        "mean_delta_per_user = result_df_pulls[result_df_pulls['delta_seconds'] > 0][['author', 'average_delta']]\n",
        "mean_delta_per_user = mean_delta_per_user.rename(columns={'average_delta':'average_delta_days'}).sort_values('average_delta_days', ascending=False)"
      ],
      "metadata": {
        "id": "QyaCYRmUUOWE"
      },
      "execution_count": null,
      "outputs": []
    },
    {
      "cell_type": "code",
      "source": [
        "# Writing to Excel\n",
        "writer = pd.ExcelWriter('Pull_Data.xlsx', engine='xlsxwriter')\n",
        "\n",
        "df_pulls.to_excel(writer, sheet_name='All data', index = False)\n",
        "df_count_pulls_groupby.to_excel(writer, sheet_name='Count pulls per user', index = False)\n",
        "df_pulls_count.to_excel(writer, sheet_name='Count pulls per user by date', index = False)\n",
        "mean_delta_per_user.to_excel(writer, sheet_name='Mean delta time', index = False)\n",
        "\n",
        "writer.close()"
      ],
      "metadata": {
        "id": "N1xUof8-T5AJ"
      },
      "execution_count": null,
      "outputs": []
    },
    {
      "cell_type": "code",
      "source": [],
      "metadata": {
        "id": "dPTkGlC1W8Ff"
      },
      "execution_count": null,
      "outputs": []
    }
  ]
}